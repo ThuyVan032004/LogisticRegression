{
 "cells": [
  {
   "cell_type": "code",
   "execution_count": 22,
   "metadata": {},
   "outputs": [],
   "source": [
    "import numpy as np \n",
    "import seaborn as sns\n",
    "import sys\n",
    "import cv2"
   ]
  },
  {
   "cell_type": "code",
   "execution_count": 23,
   "metadata": {},
   "outputs": [
    {
     "name": "stdout",
     "output_type": "stream",
     "text": [
      "['e:\\\\LogisticRegression\\\\DogBreedClassification', 'c:\\\\Users\\\\admin\\\\AppData\\\\Local\\\\Programs\\\\Python\\\\Python311\\\\python311.zip', 'c:\\\\Users\\\\admin\\\\AppData\\\\Local\\\\Programs\\\\Python\\\\Python311\\\\DLLs', 'c:\\\\Users\\\\admin\\\\AppData\\\\Local\\\\Programs\\\\Python\\\\Python311\\\\Lib', 'c:\\\\Users\\\\admin\\\\AppData\\\\Local\\\\Programs\\\\Python\\\\Python311', '', 'C:\\\\Users\\\\admin\\\\AppData\\\\Roaming\\\\Python\\\\Python311\\\\site-packages', 'C:\\\\Users\\\\admin\\\\AppData\\\\Roaming\\\\Python\\\\Python311\\\\site-packages\\\\win32', 'C:\\\\Users\\\\admin\\\\AppData\\\\Roaming\\\\Python\\\\Python311\\\\site-packages\\\\win32\\\\lib', 'C:\\\\Users\\\\admin\\\\AppData\\\\Roaming\\\\Python\\\\Python311\\\\site-packages\\\\Pythonwin', 'c:\\\\Users\\\\admin\\\\AppData\\\\Local\\\\Programs\\\\Python\\\\Python311\\\\Lib\\\\site-packages', 'E:\\\\LogisticRegression\\\\Shared\\\\Shared_ReadData', 'E:\\\\LogisticRegression\\\\Shared', 'E:\\\\LogisticRegression\\\\Shared\\\\Shared_Model', 'E:\\\\LogisticRegression\\\\Shared\\\\Shared_ReadData', 'E:\\\\LogisticRegression\\\\Shared', 'E:\\\\LogisticRegression\\\\Shared\\\\Shared_Model']\n"
     ]
    }
   ],
   "source": [
    "paths = ['E:\\\\LogisticRegression\\\\Shared\\\\Shared_ReadData', 'E:\\\\LogisticRegression\\\\Shared', 'E:\\\\LogisticRegression\\\\Shared\\\\Shared_Model']\n",
    "for path in paths:\n",
    "    sys.path.append(path)\n",
    "print(sys.path)"
   ]
  },
  {
   "cell_type": "code",
   "execution_count": 24,
   "metadata": {},
   "outputs": [],
   "source": [
    "import Shared_Implementation_ReadData as simr\n",
    "from Shared_Implementation_Model import logisticRegression\n",
    "import Shared_AttachLabel as sa\n",
    "from Shared_RemoveBackground import removeBackground"
   ]
  },
  {
   "cell_type": "code",
   "execution_count": 25,
   "metadata": {},
   "outputs": [],
   "source": [
    "base_path = 'E:/LogisticRegression/DogBreedClassification/Dataset/'\n",
    "breed_folder = ['German_Shepherd', 'Golden_Retriever']\n",
    "img = simr.ReadData()"
   ]
  },
  {
   "cell_type": "code",
   "execution_count": 26,
   "metadata": {},
   "outputs": [],
   "source": [
    "german_shepherd_img = []\n",
    "golden_retriever_img = []"
   ]
  },
  {
   "cell_type": "code",
   "execution_count": 27,
   "metadata": {},
   "outputs": [
    {
     "name": "stdout",
     "output_type": "stream",
     "text": [
      "Number of images in German_Shepherd: 58\n",
      "Number of images in Golden_Retriever: 58\n"
     ]
    }
   ],
   "source": [
    "for folder in breed_folder:\n",
    "    img_collection = img.read_image_jpg(base_path, folder)\n",
    "    if folder == \"German_Shepherd\":\n",
    "        german_shepherd_img.extend(img_collection)\n",
    "    if folder == \"Golden_Retriever\":\n",
    "        golden_retriever_img.extend(img_collection)\n",
    "\n",
    "print(\"Number of images in German_Shepherd:\", len(german_shepherd_img))\n",
    "print(\"Number of images in Golden_Retriever:\", len(golden_retriever_img))  "
   ]
  },
  {
   "cell_type": "code",
   "execution_count": 28,
   "metadata": {},
   "outputs": [],
   "source": [
    "german_rembg = 'E:\\LogisticRegression\\DogBreedClassification\\Dataset\\German_Shepherd_rembg'\n",
    "golden_rembg = 'E:\\LogisticRegression\\DogBreedClassification\\Dataset\\Golden_Retriever_rembg'\n"
   ]
  },
  {
   "cell_type": "code",
   "execution_count": 29,
   "metadata": {},
   "outputs": [],
   "source": [
    "# removeBackground(german_rembg, 1, german_shepherd_img)\n",
    "# removeBackground(golden_rembg, 1, golden_retriever_img)"
   ]
  },
  {
   "cell_type": "code",
   "execution_count": 30,
   "metadata": {},
   "outputs": [],
   "source": [
    "rembg_breed_folder = ['German_Shepherd_rembg', 'Golden_Retriever_rembg']\n",
    "rembg_german_shepherd_img = []\n",
    "rembg_golden_retriever_img = []"
   ]
  },
  {
   "cell_type": "code",
   "execution_count": 31,
   "metadata": {},
   "outputs": [],
   "source": [
    "for folder in rembg_breed_folder:\n",
    "    img_collection = img.read_image_png(base_path, folder)\n",
    "    if folder == \"German_Shepherd_rembg\":\n",
    "        rembg_german_shepherd_img.extend(img_collection)\n",
    "    if folder == \"Golden_Retriever_rembg\":\n",
    "        rembg_golden_retriever_img.extend(img_collection)"
   ]
  },
  {
   "cell_type": "code",
   "execution_count": 32,
   "metadata": {},
   "outputs": [],
   "source": [
    "# attach label to:\n",
    "# German_Shepherd = 0\n",
    "# Golden_Retriever = 1\n",
    "X = [] \n",
    "y = []\n",
    "sa.attach_label(rembg_german_shepherd_img, \"German_Shepherd_rembg\", X, y)\n",
    "sa.attach_label(rembg_golden_retriever_img, \"Golden_Retriever_rembg\", X, y)"
   ]
  },
  {
   "cell_type": "code",
   "execution_count": 33,
   "metadata": {},
   "outputs": [
    {
     "name": "stdout",
     "output_type": "stream",
     "text": [
      "[1 0 1 0 1 0 0 1 0 0 1 0 0 0 0 1 0 1 1 0 0 1 0 1]\n"
     ]
    }
   ],
   "source": [
    "model = logisticRegression()\n",
    "model.build_model(X, y)\n",
    "prediction = model.predict(model.X_test)\n",
    "print(prediction)"
   ]
  },
  {
   "cell_type": "code",
   "execution_count": 34,
   "metadata": {},
   "outputs": [
    {
     "name": "stdout",
     "output_type": "stream",
     "text": [
      "              precision    recall  f1-score   support\n",
      "\n",
      "           0       0.57      0.67      0.62        12\n",
      "           1       0.60      0.50      0.55        12\n",
      "\n",
      "    accuracy                           0.58        24\n",
      "   macro avg       0.59      0.58      0.58        24\n",
      "weighted avg       0.59      0.58      0.58        24\n",
      "\n"
     ]
    }
   ],
   "source": [
    "print(model.classificationReport(model.y_test, prediction))"
   ]
  },
  {
   "cell_type": "code",
   "execution_count": 35,
   "metadata": {},
   "outputs": [
    {
     "data": {
      "image/png": "[encoded data removed]",
      "text/plain": [
       "<Figure size 640x480 with 2 Axes>"
      ]
     },
     "metadata": {},
     "output_type": "display_data"
    }
   ],
   "source": [
    "model.heat_map(model.y_test, prediction)"
   ]
  },
  {
   "cell_type": "code",
   "execution_count": 36,
   "metadata": {},
   "outputs": [],
   "source": [
    "path = 'E:/LogisticRegression/DogBreedClassification/Test'\n",
    "german_test_imgs = img.read_image_jpg(path, 'german_shepherd')\n",
    "golden_test_imgs = img.read_image_jpg(path, 'golden_retriever')\n",
    "german_resized_imgs = []\n",
    "golden_resized_imgs = []\n",
    "german_resized_imgs.extend(german_test_imgs)\n",
    "golden_resized_imgs.extend(golden_test_imgs)"
   ]
  },
  {
   "cell_type": "code",
   "execution_count": 37,
   "metadata": {},
   "outputs": [],
   "source": [
    "rembg_german_path = 'E:\\LogisticRegression\\DogBreedClassification\\Test\\german_rembg'\n",
    "rembg_golden_path = 'E:\\LogisticRegression\\DogBreedClassification\\Test\\golden_rembg'"
   ]
  },
  {
   "cell_type": "code",
   "execution_count": 38,
   "metadata": {},
   "outputs": [],
   "source": [
    "removeBackground(rembg_german_path, 1, german_resized_imgs)\n",
    "removeBackground(rembg_golden_path, 1, golden_resized_imgs)"
   ]
  },
  {
   "cell_type": "code",
   "execution_count": 39,
   "metadata": {},
   "outputs": [],
   "source": [
    "x_test = []\n",
    "y_test = []\n",
    "\n",
    "sa.attach_label(golden_resized_imgs, \"golden_rembg\", x_test, y_test)\n",
    "sa.attach_label(german_resized_imgs, \"german_rembg\", x_test, y_test)"
   ]
  },
  {
   "cell_type": "code",
   "execution_count": 40,
   "metadata": {},
   "outputs": [
    {
     "name": "stdout",
     "output_type": "stream",
     "text": [
      "[1 1 1 1 1 1 1 1 1 1 1 1 1]\n"
     ]
    }
   ],
   "source": [
    "prediction = model.predict(x_test)\n",
    "print(prediction)"
   ]
  },
  {
   "cell_type": "code",
   "execution_count": 41,
   "metadata": {},
   "outputs": [
    {
     "name": "stdout",
     "output_type": "stream",
     "text": [
      "              precision    recall  f1-score   support\n",
      "\n",
      "           0       0.00      0.00      0.00         0\n",
      "           1       1.00      0.54      0.70        13\n",
      "\n",
      "    accuracy                           0.54        13\n",
      "   macro avg       0.50      0.27      0.35        13\n",
      "weighted avg       1.00      0.54      0.70        13\n",
      "\n"
     ]
    },
    {
     "name": "stderr",
     "output_type": "stream",
     "text": [
      "c:\\Users\\admin\\AppData\\Local\\Programs\\Python\\Python311\\Lib\\site-packages\\sklearn\\metrics\\_classification.py:1469: UndefinedMetricWarning: Recall and F-score are ill-defined and being set to 0.0 in labels with no true samples. Use `zero_division` parameter to control this behavior.\n",
      "  _warn_prf(average, modifier, msg_start, len(result))\n",
      "c:\\Users\\admin\\AppData\\Local\\Programs\\Python\\Python311\\Lib\\site-packages\\sklearn\\metrics\\_classification.py:1469: UndefinedMetricWarning: Recall and F-score are ill-defined and being set to 0.0 in labels with no true samples. Use `zero_division` parameter to control this behavior.\n",
      "  _warn_prf(average, modifier, msg_start, len(result))\n",
      "c:\\Users\\admin\\AppData\\Local\\Programs\\Python\\Python311\\Lib\\site-packages\\sklearn\\metrics\\_classification.py:1469: UndefinedMetricWarning: Recall and F-score are ill-defined and being set to 0.0 in labels with no true samples. Use `zero_division` parameter to control this behavior.\n",
      "  _warn_prf(average, modifier, msg_start, len(result))\n"
     ]
    }
   ],
   "source": [
    "print(model.classificationReport(prediction, y_test))"
   ]
  },
  {
   "cell_type": "code",
   "execution_count": 42,
   "metadata": {},
   "outputs": [
    {
     "data": {
      "image/png": "[encoded data removed]",
      "text/plain": [
       "<Figure size 640x480 with 2 Axes>"
      ]
     },
     "metadata": {},
     "output_type": "display_data"
    }
   ],
   "source": [
    "model.heat_map(prediction, y_test)"
   ]
  }
 ],
 "metadata": {
  "kernelspec": {
   "display_name": "Python 3",
   "language": "python",
   "name": "python3"
  },
  "language_info": {
   "codemirror_mode": {
    "name": "ipython",
    "version": 3
   },
   "file_extension": ".py",
   "mimetype": "text/x-python",
   "name": "python",
   "nbconvert_exporter": "python",
   "pygments_lexer": "ipython3",
   "version": "3.11.4"
  }
 },
 "nbformat": 4,
 "nbformat_minor": 2
}
